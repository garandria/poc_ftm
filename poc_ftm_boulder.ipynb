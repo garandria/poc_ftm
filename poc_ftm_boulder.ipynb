{
 "cells": [
  {
   "cell_type": "markdown",
   "metadata": {},
   "source": [
    "### Install some libs"
   ]
  },
  {
   "cell_type": "markdown",
   "metadata": {},
   "source": [
    "!pip install treelib"
   ]
  },
  {
   "cell_type": "markdown",
   "metadata": {},
   "source": [
    "!pip3 install tree_sitter"
   ]
  },
  {
   "cell_type": "markdown",
   "metadata": {},
   "source": [
    "### Import some libs"
   ]
  },
  {
   "cell_type": "code",
   "execution_count": 1,
   "metadata": {},
   "outputs": [],
   "source": [
    "from treelib import Node, Tree\n",
    "from tree_sitter import Language, Parser\n",
    "import os\n",
    "import numpy as np"
   ]
  },
  {
   "cell_type": "markdown",
   "metadata": {},
   "source": [
    "### Initialize Tree-sitter go parser"
   ]
  },
  {
   "cell_type": "code",
   "execution_count": 2,
   "metadata": {},
   "outputs": [],
   "source": [
    "Language.build_library(\n",
    "  # Store the library in the `build` directory\n",
    "  'build/my-languages.so',\n",
    "\n",
    "  # Include one or more languages\n",
    "  [\n",
    "    'tree-sitter-go'\n",
    "  ]\n",
    ")\n",
    "\n",
    "GO_LANGUAGE = Language('build/my-languages.so', 'go')\n",
    "\n",
    "parser = Parser()\n",
    "parser.set_language(GO_LANGUAGE)"
   ]
  },
  {
   "cell_type": "markdown",
   "metadata": {},
   "source": [
    "## Step I : Find the Feature Toggles (FT)"
   ]
  },
  {
   "cell_type": "code",
   "execution_count": 3,
   "metadata": {},
   "outputs": [],
   "source": [
    "keywords = [\"CAAValidationMethods\", \"CAAAccountURI\", \"EnforceMultiVA\", \"MultiVAFullResults\", \n",
    "            \"MandatoryPOSTAsGET\", \"AllowV1Registration\", \"V1DisableNewValidations\", \"StoreRevokerInfo\", \n",
    "            \"RestrictRSAKeySizes\", \"FasterNewOrdersRateLimit\", \"ECDSAForAll\", \"ServeRenewalInfo\"]"
   ]
  },
  {
   "cell_type": "markdown",
   "metadata": {},
   "source": [
    "### List files with keywords"
   ]
  },
  {
   "cell_type": "markdown",
   "metadata": {},
   "source": [
    "#### List all .go files"
   ]
  },
  {
   "cell_type": "code",
   "execution_count": 6,
   "metadata": {},
   "outputs": [
    {
     "name": "stdout",
     "output_type": "stream",
     "text": [
      "10 random .go files in this project :\n",
      "./boulder-main/vendor/github.com/syndtr/goleveldb/leveldb/comparer/bytes_comparer.go\n",
      "./boulder-main/vendor/golang.org/x/net/ipv6/icmp_stub.go\n",
      "./boulder-main/vendor/golang.org/x/sys/unix/zptrace_x86_linux.go\n",
      "./boulder-main/vendor/google.golang.org/grpc/grpclog/component.go\n",
      "./boulder-main/vendor/golang.org/x/net/ipv4/sys_zos.go\n",
      "./boulder-main/vendor/github.com/zmap/zlint/v3/lints/cabf_br/lint_dnsname_hyphen_in_sld.go\n",
      "./boulder-main/vendor/github.com/grpc-ecosystem/go-grpc-prometheus/server_reporter.go\n",
      "./boulder-main/vendor/github.com/zmap/zcrypto/x509/x509.go\n",
      "./boulder-main/vendor/github.com/prometheus/procfs/cpuinfo.go\n",
      "./boulder-main/vendor/google.golang.org/protobuf/internal/encoding/text/decode_number.go\n"
     ]
    }
   ],
   "source": [
    "go_folders = [x[0] for x in os.walk(\"./boulder-main/\")]\n",
    "\n",
    "go_files = []\n",
    "for dir_name in go_folders:\n",
    "    files = [dir_name+\"/\"+k for k in os.listdir(dir_name) if k[len(k)-3:] ==\".go\"]\n",
    "    go_files.extend(files)\n",
    "\n",
    "print(\"10 random .go files in this project :\")\n",
    "for k in range(10):\n",
    "    print(go_files[np.random.randint(len(go_files))])"
   ]
  },
  {
   "cell_type": "code",
   "execution_count": 7,
   "metadata": {},
   "outputs": [
    {
     "data": {
      "text/plain": [
       "2080"
      ]
     },
     "execution_count": 7,
     "metadata": {},
     "output_type": "execute_result"
    }
   ],
   "source": [
    "len(go_files)"
   ]
  },
  {
   "cell_type": "markdown",
   "metadata": {},
   "source": [
    "#### List the interesting files, containing at least one keyword with the featureflag "
   ]
  },
  {
   "cell_type": "code",
   "execution_count": 15,
   "metadata": {
    "scrolled": false
   },
   "outputs": [
    {
     "name": "stdout",
     "output_type": "stream",
     "text": [
      "./boulder-main/wfe/wfe.go contains :\n",
      "-> AllowV1Registration\n",
      "\n",
      "\n",
      "./boulder-main/wfe/wfe_test.go contains :\n",
      "-> AllowV1Registration\n",
      "\n",
      "\n",
      "./boulder-main/features/features.go contains :\n",
      "-> CAAValidationMethods\n",
      "-> CAAAccountURI\n",
      "-> EnforceMultiVA\n",
      "-> MultiVAFullResults\n",
      "-> MandatoryPOSTAsGET\n",
      "-> AllowV1Registration\n",
      "-> V1DisableNewValidations\n",
      "-> StoreRevokerInfo\n",
      "-> RestrictRSAKeySizes\n",
      "-> FasterNewOrdersRateLimit\n",
      "-> ECDSAForAll\n",
      "-> ServeRenewalInfo\n",
      "\n",
      "\n",
      "./boulder-main/features/featureflag_string.go contains :\n",
      "-> CAAValidationMethods\n",
      "-> CAAAccountURI\n",
      "-> EnforceMultiVA\n",
      "-> MultiVAFullResults\n",
      "-> MandatoryPOSTAsGET\n",
      "-> AllowV1Registration\n",
      "-> V1DisableNewValidations\n",
      "-> StoreRevokerInfo\n",
      "-> RestrictRSAKeySizes\n",
      "-> FasterNewOrdersRateLimit\n",
      "-> ECDSAForAll\n",
      "-> ServeRenewalInfo\n",
      "\n",
      "\n",
      "./boulder-main/goodkey/good_key_test.go contains :\n",
      "-> RestrictRSAKeySizes\n",
      "\n",
      "\n",
      "./boulder-main/goodkey/good_key.go contains :\n",
      "-> RestrictRSAKeySizes\n",
      "\n",
      "\n",
      "./boulder-main/ca/ca.go contains :\n",
      "-> ECDSAForAll\n",
      "\n",
      "\n",
      "./boulder-main/ca/ca_test.go contains :\n",
      "-> ECDSAForAll\n",
      "\n",
      "\n",
      "./boulder-main/sa/sa.go contains :\n",
      "-> StoreRevokerInfo\n",
      "-> FasterNewOrdersRateLimit\n",
      "\n",
      "\n",
      "./boulder-main/sa/sa_test.go contains :\n",
      "-> StoreRevokerInfo\n",
      "\n",
      "\n",
      "./boulder-main/ra/ra_test.go contains :\n",
      "-> V1DisableNewValidations\n",
      "\n",
      "\n",
      "./boulder-main/ra/ra.go contains :\n",
      "-> V1DisableNewValidations\n",
      "-> StoreRevokerInfo\n",
      "\n",
      "\n",
      "./boulder-main/wfe2/wfe.go contains :\n",
      "-> MandatoryPOSTAsGET\n",
      "-> ServeRenewalInfo\n",
      "\n",
      "\n",
      "./boulder-main/wfe2/wfe_test.go contains :\n",
      "-> MandatoryPOSTAsGET\n",
      "-> ServeRenewalInfo\n",
      "\n",
      "\n",
      "./boulder-main/va/caa_test.go contains :\n",
      "-> CAAValidationMethods\n",
      "-> CAAAccountURI\n",
      "\n",
      "\n",
      "./boulder-main/va/va.go contains :\n",
      "-> CAAAccountURI\n",
      "-> EnforceMultiVA\n",
      "-> MultiVAFullResults\n",
      "\n",
      "\n",
      "./boulder-main/va/caa.go contains :\n",
      "-> CAAValidationMethods\n",
      "-> CAAAccountURI\n",
      "\n",
      "\n",
      "./boulder-main/va/va_test.go contains :\n",
      "-> EnforceMultiVA\n",
      "-> MultiVAFullResults\n",
      "\n",
      "\n"
     ]
    }
   ],
   "source": [
    "go_file_interests = []\n",
    "\n",
    "for file in go_files:\n",
    "    s = \"\"\n",
    "    with open(file, \"r\") as f:\n",
    "        s+=f.read()+\"\\n\"\n",
    "    kw_file = [k for k in keywords if k in s]\n",
    "    if len(kw_file) > 0 and \"features\" in s:\n",
    "        print(file, \"contains :\")\n",
    "        for kw in kw_file:\n",
    "            print(\"->\",kw)\n",
    "        go_file_interests.append(file)\n",
    "        print(\"\\n\")"
   ]
  },
  {
   "cell_type": "code",
   "execution_count": 16,
   "metadata": {},
   "outputs": [
    {
     "data": {
      "text/plain": [
       "18"
      ]
     },
     "execution_count": 16,
     "metadata": {},
     "output_type": "execute_result"
    }
   ],
   "source": [
    "len(go_file_interests)"
   ]
  },
  {
   "cell_type": "markdown",
   "metadata": {},
   "source": [
    "## Step 3 - Search Feature Toggles dependencies in the AST"
   ]
  },
  {
   "cell_type": "code",
   "execution_count": 28,
   "metadata": {
    "scrolled": false
   },
   "outputs": [
    {
     "name": "stdout",
     "output_type": "stream",
     "text": [
      "File :             ./boulder-main/wfe/wfe.go \n",
      "\n",
      "-> !features.Enabled(features.AllowV1Registration)\n",
      "\n",
      "\n",
      "File :             ./boulder-main/wfe/wfe_test.go \n",
      "\n",
      "\n",
      "\n",
      "File :             ./boulder-main/features/features.go \n",
      "\n",
      "\n",
      "\n",
      "File :             ./boulder-main/features/featureflag_string.go \n",
      "\n",
      "\n",
      "\n",
      "File :             ./boulder-main/goodkey/good_key_test.go \n",
      "\n",
      "\n",
      "\n",
      "File :             ./boulder-main/goodkey/good_key.go \n",
      "\n",
      "-> features.Enabled(features.RestrictRSAKeySizes)\n",
      "\n",
      "\n",
      "File :             ./boulder-main/ca/ca.go \n",
      "\n",
      "-> issueReq.IssuerNameID == 0\n",
      "-> alg == x509.ECDSA && !features.Enabled(features.ECDSAForAll) && ca.ecdsaAllowList != nil && !ca.ecdsaAllowList.permitted(issueReq.RegistrationID)\n",
      "\n",
      "\n",
      "File :             ./boulder-main/ca/ca_test.go \n",
      "\n",
      "\n",
      "\n",
      "File :             ./boulder-main/sa/sa.go \n",
      "\n",
      "-> features.Enabled(features.FasterNewOrdersRateLimit)\n",
      "-> features.Enabled(features.FasterNewOrdersRateLimit)\n",
      "-> features.Enabled(features.FasterNewOrdersRateLimit)\n",
      "-> features.Enabled(features.StoreRevokerInfo) && req.RevokedBy != 0\n",
      "\n",
      "\n",
      "File :             ./boulder-main/sa/sa_test.go \n",
      "\n",
      "\n",
      "\n",
      "File :             ./boulder-main/ra/ra_test.go \n",
      "\n",
      "\n",
      "\n",
      "File :             ./boulder-main/ra/ra.go \n",
      "\n",
      "-> features.Enabled(features.V1DisableNewValidations)\n",
      "-> reason == ocsp.KeyCompromise\n",
      "-> features.Enabled(features.StoreRevokerInfo) && revokedBy != 0\n",
      "\n",
      "\n",
      "File :             ./boulder-main/wfe2/wfe.go \n",
      "\n",
      "-> features.Enabled(features.ServeRenewalInfo)\n",
      "-> features.Enabled(features.ServeRenewalInfo)\n",
      "-> features.Enabled(features.MandatoryPOSTAsGET) && request.Method != http.MethodPost && !requiredStale(request, logEvent)\n",
      "-> features.Enabled(features.MandatoryPOSTAsGET) && request.Method != http.MethodPost && !requiredStale(request, logEvent)\n",
      "-> features.Enabled(features.MandatoryPOSTAsGET) && request.Method != http.MethodPost && !requiredStale(request, logEvent)\n",
      "-> features.Enabled(features.MandatoryPOSTAsGET) && request.Method != http.MethodPost && !requiredStale(request, logEvent)\n",
      "-> !features.Enabled(features.ServeRenewalInfo)\n",
      "\n",
      "\n",
      "File :             ./boulder-main/wfe2/wfe_test.go \n",
      "\n",
      "\n",
      "\n",
      "File :             ./boulder-main/va/caa_test.go \n",
      "\n",
      "-> err != nil\n",
      "-> err != nil\n",
      "\n",
      "\n",
      "File :             ./boulder-main/va/va.go \n",
      "\n",
      "-> features.Enabled(features.CAAAccountURI) && len(accountURIPrefixes) == 0\n",
      "-> !features.Enabled(features.MultiVAFullResults)\n",
      "-> prob != nil\n",
      "-> prob != nil\n",
      "-> remoteResults != nil\n",
      "-> remoteResults != nil\n",
      "-> !features.Enabled(features.EnforceMultiVA) && features.Enabled(features.MultiVAFullResults)\n",
      "-> !features.Enabled(features.EnforceMultiVA) && features.Enabled(features.MultiVAFullResults)\n",
      "-> features.Enabled(features.EnforceMultiVA)\n",
      "\n",
      "\n",
      "File :             ./boulder-main/va/caa.go \n",
      "\n",
      "-> features.Enabled(features.CAAAccountURI)\n",
      "-> features.Enabled(features.CAAValidationMethods)\n",
      "\n",
      "\n",
      "File :             ./boulder-main/va/va_test.go \n",
      "\n",
      "\n",
      "\n"
     ]
    }
   ],
   "source": [
    "for gfi in go_file_interests:\n",
    "    \n",
    "    s = \"\"\n",
    "    with open(gfi, \"r\") as f:\n",
    "        s+=f.read()+\"\\n\"\n",
    "\n",
    "    print(\"File :            \", gfi, \"\\n\")\n",
    "\n",
    "    source = bytes(s, \"utf8\")\n",
    "    ast = parser.parse(source)\n",
    "\n",
    "    root_node = ast.root_node\n",
    "\n",
    "    tree = Tree()\n",
    "\n",
    "    root_node = ast.root_node\n",
    "\n",
    "    type_nodes = dict()\n",
    "\n",
    "    def get_name(node):\n",
    "        return source[node.start_byte:node.end_byte].decode('utf8')\n",
    "\n",
    "    def get_id(node):\n",
    "        global type_nodes\n",
    "        node_type = node.type\n",
    "        if node_type not in type_nodes:\n",
    "            type_nodes[node_type]=1\n",
    "        else:\n",
    "            type_nodes[node_type]+=1\n",
    "        return node_type+str(type_nodes[node_type])\n",
    "\n",
    "    def process(root_id, node):\n",
    "        global tree\n",
    "        node_id = get_id(node)\n",
    "        node_name = get_name(node)\n",
    "        for kw in keywords:\n",
    "            if kw in node_name and node.type == 'if_statement':\n",
    "                #print(\"\\n\\n\"+get_name(node)+\"\\n\\n\")\n",
    "                for c in node.children:\n",
    "                    if c.type == 'binary_expression' or c.type == 'unary_expression' or c.type == 'call_expression':\n",
    "                        print(\"->\",get_name(c))\n",
    "        tree.create_node(node_name,\n",
    "                         node_id,\n",
    "                         parent = root_id)\n",
    "        if len(node.children) != 0:\n",
    "            for i in range(len(node.children)):\n",
    "                process(node_id, node.children[i])\n",
    "\n",
    "    tree.create_node(\"root\", \"root\")\n",
    "    for i in range(len(root_node.children)):\n",
    "        process(\"root\", root_node.children[i])\n",
    "    print(\"\\n\")\n",
    "\n",
    "    #tree.show()"
   ]
  },
  {
   "cell_type": "code",
   "execution_count": null,
   "metadata": {},
   "outputs": [],
   "source": []
  },
  {
   "cell_type": "code",
   "execution_count": null,
   "metadata": {},
   "outputs": [],
   "source": []
  },
  {
   "cell_type": "code",
   "execution_count": 22,
   "metadata": {
    "scrolled": true
   },
   "outputs": [
    {
     "data": {
      "text/plain": [
       "{'package_clause': 1,\n",
       " 'package': 1,\n",
       " 'package_identifier': 71,\n",
       " '\\n': 279,\n",
       " 'import_declaration': 1,\n",
       " 'import': 1,\n",
       " 'import_spec_list': 1,\n",
       " '(': 199,\n",
       " 'import_spec': 30,\n",
       " 'interpreted_string_literal': 173,\n",
       " '\"': 346,\n",
       " ')': 199,\n",
       " 'var_declaration': 15,\n",
       " 'var': 15,\n",
       " 'var_spec': 15,\n",
       " 'identifier': 628,\n",
       " '=': 30,\n",
       " 'expression_list': 208,\n",
       " 'function_declaration': 19,\n",
       " 'func': 27,\n",
       " 'parameter_list': 36,\n",
       " 'parameter_declaration': 54,\n",
       " 'type_identifier': 166,\n",
       " 'pointer_type': 39,\n",
       " '*': 42,\n",
       " 'qualified_type': 67,\n",
       " '.': 257,\n",
       " 'block': 55,\n",
       " '{': 172,\n",
       " 'short_var_declaration': 77,\n",
       " ',': 422,\n",
       " ':=': 81,\n",
       " 'call_expression': 159,\n",
       " 'selector_expression': 190,\n",
       " 'field_identifier': 364,\n",
       " 'argument_list': 159,\n",
       " 'int_literal': 36,\n",
       " 'return_statement': 11,\n",
       " 'return': 11,\n",
       " '}': 172,\n",
       " 'composite_literal': 60,\n",
       " 'literal_value': 109,\n",
       " 'keyed_element': 174,\n",
       " ':': 174,\n",
       " 'slice_type': 22,\n",
       " '[': 48,\n",
       " ']': 48,\n",
       " 'element': 93,\n",
       " 'unary_expression': 18,\n",
       " '&': 14,\n",
       " 'comment': 65,\n",
       " 'assignment_statement': 9,\n",
       " 'binary_expression': 26,\n",
       " 'nil': 37,\n",
       " '+': 1,\n",
       " 'if_statement': 21,\n",
       " 'if': 21,\n",
       " '==': 7,\n",
       " '!=': 12,\n",
       " 'type_declaration': 4,\n",
       " 'type': 4,\n",
       " 'type_spec': 4,\n",
       " 'struct_type': 8,\n",
       " 'struct': 8,\n",
       " 'field_declaration_list': 8,\n",
       " 'field_declaration': 18,\n",
       " 'map_type': 21,\n",
       " 'map': 21,\n",
       " 'method_declaration': 4,\n",
       " 'defer_statement': 8,\n",
       " 'defer': 8,\n",
       " 'const_declaration': 4,\n",
       " 'const': 4,\n",
       " 'const_spec': 10,\n",
       " 'func_literal': 4,\n",
       " 'index_expression': 5,\n",
       " 'escape_sequence': 3,\n",
       " 'else': 4,\n",
       " 'variadic_parameter_declaration': 3,\n",
       " '...': 3,\n",
       " 'raw_string_literal': 11,\n",
       " '!': 3,\n",
       " 'true': 25,\n",
       " 'false': 7,\n",
       " 'for_statement': 4,\n",
       " 'for': 4,\n",
       " 'range_clause': 4,\n",
       " 'range': 4,\n",
       " '&&': 2,\n",
       " '>': 1,\n",
       " '/': 2}"
      ]
     },
     "execution_count": 22,
     "metadata": {},
     "output_type": "execute_result"
    }
   ],
   "source": [
    "type_nodes"
   ]
  },
  {
   "cell_type": "code",
   "execution_count": 14,
   "metadata": {},
   "outputs": [],
   "source": [
    "# Pattern matching -> does not work yet"
   ]
  },
  {
   "cell_type": "markdown",
   "metadata": {},
   "source": [
    "query = GO_LANGUAGE.query(\"\"\"\n",
    "(function_definition\n",
    "  name: (identifier) @function.def)\n",
    "\n",
    "(call\n",
    "  function: (identifier) @function.call)\n",
    "\"\"\")\n",
    "\n",
    "captures = query.captures(tree.root_node)\n",
    "\n"
   ]
  },
  {
   "cell_type": "code",
   "execution_count": null,
   "metadata": {},
   "outputs": [],
   "source": []
  }
 ],
 "metadata": {
  "kernelspec": {
   "display_name": "Python 3",
   "language": "python",
   "name": "python3"
  },
  "language_info": {
   "codemirror_mode": {
    "name": "ipython",
    "version": 3
   },
   "file_extension": ".py",
   "mimetype": "text/x-python",
   "name": "python",
   "nbconvert_exporter": "python",
   "pygments_lexer": "ipython3",
   "version": "3.8.1"
  }
 },
 "nbformat": 4,
 "nbformat_minor": 4
}
